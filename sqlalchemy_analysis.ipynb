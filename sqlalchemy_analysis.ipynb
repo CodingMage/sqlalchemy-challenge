{
 "cells": [
  {
   "cell_type": "code",
   "execution_count": null,
   "metadata": {},
   "outputs": [],
   "source": [
    "%matplotlib inline\n",
    "from matplotlib import style\n",
    "style.use('fivethirtyeight')\n",
    "import matplotlib.pyplot as plt"
   ]
  },
  {
   "cell_type": "code",
   "execution_count": null,
   "metadata": {},
   "outputs": [],
   "source": [
    "import numpy as np\n",
    "import pandas as pd"
   ]
  },
  {
   "cell_type": "code",
   "execution_count": null,
   "metadata": {},
   "outputs": [],
   "source": [
    "import datetime as dt"
   ]
  },
  {
   "cell_type": "markdown",
   "metadata": {},
   "source": [
    "# Reflect Tables into SQLAlchemy ORM"
   ]
  },
  {
   "cell_type": "code",
   "execution_count": null,
   "metadata": {},
   "outputs": [],
   "source": [
    "# Python SQL toolkit and Object Relational Mapper\n",
    "import sqlalchemy\n",
    "from sqlalchemy.ext.automap import automap_base\n",
    "from sqlalchemy.orm import Session\n",
    "from sqlalchemy import create_engine, func, inspect"
   ]
  },
  {
   "cell_type": "code",
   "execution_count": null,
   "metadata": {},
   "outputs": [],
   "source": [
    "engine = create_engine(\"sqlite:///Resources/hawaii.sqlite\")"
   ]
  },
  {
   "cell_type": "code",
   "execution_count": null,
   "metadata": {},
   "outputs": [],
   "source": [
    "# reflect an existing database into a new model\n",
    "Base = automap_base()\n",
    "# reflect the tables\n",
    "Base.prepare(engine, reflect=True)"
   ]
  },
  {
   "cell_type": "code",
   "execution_count": null,
   "metadata": {},
   "outputs": [],
   "source": [
    "# We can view all of the classes that automap found\n",
    "Base.classes.keys()"
   ]
  },
  {
   "cell_type": "code",
   "execution_count": null,
   "metadata": {},
   "outputs": [],
   "source": [
    "# Save references to each table\n",
    "Measurement = Base.classes.measurement\n",
    "Station = Base.classes.station"
   ]
  },
  {
   "cell_type": "code",
   "execution_count": null,
   "metadata": {},
   "outputs": [],
   "source": [
    "# Create our session (link) from Python to the DB\n",
    "session = Session(engine)"
   ]
  },
  {
   "cell_type": "markdown",
   "metadata": {},
   "source": [
    "# Exploratory Climate Analysis"
   ]
  },
  {
   "cell_type": "code",
   "execution_count": null,
   "metadata": {},
   "outputs": [],
   "source": [
    "Inspector = inspect(engine)\n",
    "Inspector.get_table_names()\n",
    "measurement_cols = Inspector.get_columns('measurement')\n",
    "for column in measurement_cols:\n",
    "    print(column.values())"
   ]
  },
  {
   "cell_type": "code",
   "execution_count": null,
   "metadata": {},
   "outputs": [],
   "source": [
    "station_cols = Inspector.get_columns('station')\n",
    "for column in station_cols:\n",
    "    print(column.values())"
   ]
  },
  {
   "cell_type": "code",
   "execution_count": null,
   "metadata": {
    "scrolled": false
   },
   "outputs": [],
   "source": [
    "# Design a query to retrieve the last 12 months of precipitation data and plot the results\n",
    "\n",
    "# Calculate the date 1 year ago from the last data point in the database\n",
    "lastdate, = session.query(Measurement.date).order_by(Measurement.date.desc()).first()\n",
    "print(f'Last date of precipitation data in the databse is {lastdate}')\n",
    "print(f'Now plotting the precipitation in the past 12 months')\n",
    "\n",
    "# Perform a query to retrieve the data and precipitation scores\n",
    "prcp_data = session.query(Measurement.date, func.max(Measurement.prcp))\\\n",
    "                   .filter(Measurement.date >= '2016-08-23')\\\n",
    "                   .group_by(Measurement.date)\\\n",
    "                   .order_by(Measurement.date).all()\n",
    "# Save the query results as a Pandas DataFrame and set the index to the date column\n",
    "dates = list()\n",
    "precipitation = list()\n",
    "for each in prcp_data:\n",
    "    \n",
    "    if each[1] == None or each[1] == 0.00:\n",
    "        pass\n",
    "    else:\n",
    "        dates.append(each[0])\n",
    "        precipitation.append(each[1])\n",
    "        \n",
    "prcp_df = pd.DataFrame({\n",
    "    'date' : dates,\n",
    "    'precipitation' : precipitation,\n",
    "})\n",
    "\n",
    "# Use Pandas Plotting with Matplotlib to plot the data\n",
    "prcp_df.plot(kind='bar', width=2, figsize=(10,8))\n",
    "plt.xticks([])\n",
    "plt.xlabel('Date')\n",
    "plt.ylabel('Precipitation')\n",
    "plt.legend(loc='best')\n",
    "plt.tight_layout()\n",
    "plt.show()"
   ]
  },
  {
   "cell_type": "markdown",
   "metadata": {},
   "source": [
    "![precipitation](Images/precipitation.png)"
   ]
  },
  {
   "cell_type": "code",
   "execution_count": null,
   "metadata": {},
   "outputs": [],
   "source": [
    "# Use Pandas to calcualte the summary statistics for the precipitation data\n",
    "summary = pd.DataFrame(index={'2016-08 to date'},\n",
    "                       data={'prcp_mean': [round(prcp_df.mean()['precipitation'],2)],\n",
    "                             'prcp_max': prcp_df.max()['precipitation'],\n",
    "                             'prcp_sum': prcp_df.sum()['precipitation']})\n",
    "summary"
   ]
  },
  {
   "cell_type": "markdown",
   "metadata": {},
   "source": [
    "![describe](Images/describe.png)"
   ]
  },
  {
   "cell_type": "code",
   "execution_count": null,
   "metadata": {},
   "outputs": [],
   "source": [
    "# Design a query to show how many stations are available in this dataset?\n",
    "num_of_stations = session.query(Station.station).count()\n",
    "num_of_stations"
   ]
  },
  {
   "cell_type": "code",
   "execution_count": null,
   "metadata": {},
   "outputs": [],
   "source": [
    "# What are the most active stations? (i.e. what stations have the most rows)?\n",
    "# List the stations and the counts in descending order.\n",
    "activate_stations = session.query(Measurement.station, func.count(Measurement.id))\\\n",
    "                           .group_by(Measurement.station)\\\n",
    "                           .order_by(func.count(Measurement.id).desc())\\\n",
    "                           .all()                           \n",
    "for each in activate_stations:\n",
    "    print(each[0], each[1])"
   ]
  },
  {
   "cell_type": "code",
   "execution_count": null,
   "metadata": {
    "scrolled": true
   },
   "outputs": [],
   "source": [
    "# Using the station id from the previous query, calculate the lowest temperature recorded, \n",
    "# highest temperature recorded, and average temperature of the most active station?\n",
    "tobs = session.query(func.min(Measurement.tobs),func.max(Measurement.tobs), func.avg(Measurement.tobs))\\\n",
    "              .filter(Measurement.station == 'USC00519281').first()\n",
    "tmin = tobs[0]\n",
    "tmax = tobs[1]\n",
    "tavg = tobs[2]\n",
    "print(f\"Lowest temperature is {tmin}\\nHighest temperature is {tmax}\\nAverage temperature is {tavg}\")"
   ]
  },
  {
   "cell_type": "code",
   "execution_count": null,
   "metadata": {
    "scrolled": false
   },
   "outputs": [],
   "source": [
    "# Choose the station with the highest number of temperature observations.\n",
    "# Finding the last date of measurement for the most activate station: USC00519281.\n",
    "last_date_tob, = session.query(Measurement.date)\\\n",
    "                   .filter(Measurement.station == 'USC00519281')\\\n",
    "                   .order_by(Measurement.date.desc()).first()\n",
    "print(f'Last date of temperature measurement for station \"USC00519281\" is {last_date_tob}.')\n",
    "print(f'Now plotting the histogram for temperature in the past 12 months:')\n",
    "# Query the last 12 months of temperature observation data for this station and plot the results as a histogram\n",
    "tob_query = session.query(Measurement.date, Measurement.tobs)\\\n",
    "                   .filter(Measurement.station == 'USC00519281')\\\n",
    "                   .filter(Measurement.date >= '2016-08-18').all()\n",
    "tobs = list()\n",
    "for each in tob_query:\n",
    "    tobs.append(each[1])\n",
    "plt.figure(figsize=(8,6))\n",
    "plt.hist(tobs, bins=12, label='tobs')\n",
    "plt.legend()\n",
    "plt.xlabel('Temperature in °F')\n",
    "plt.ylabel('Frequency')\n",
    "plt.show()"
   ]
  },
  {
   "cell_type": "markdown",
   "metadata": {},
   "source": [
    "![precipitation](Images/station-histogram.png)"
   ]
  },
  {
   "cell_type": "code",
   "execution_count": null,
   "metadata": {},
   "outputs": [],
   "source": [
    "# This function called `calc_temps` will accept start date and end date in the format '%Y-%m-%d' \n",
    "# and return the minimum, average, and maximum temperatures for that range of dates\n",
    "def calc_temps(start_date, end_date):\n",
    "    \"\"\"TMIN, TAVG, and TMAX for a list of dates.\n",
    "    \n",
    "    Args:\n",
    "        start_date (string): A date string in the format %Y-%m-%d\n",
    "        end_date (string): A date string in the format %Y-%m-%d\n",
    "        \n",
    "    Returns:\n",
    "        TMIN, TAVE, and TMAX\n",
    "    \"\"\"\n",
    "    \n",
    "    return session.query(func.min(Measurement.tobs), func.avg(Measurement.tobs), func.max(Measurement.tobs)).\\\n",
    "        filter(Measurement.date >= start_date).filter(Measurement.date <= end_date).all()\n",
    "\n",
    "# function usage example\n",
    "print(calc_temps('2012-02-28', '2012-03-05'))"
   ]
  },
  {
   "cell_type": "markdown",
   "metadata": {},
   "source": [
    "# Temperature Analysis I"
   ]
  },
  {
   "cell_type": "code",
   "execution_count": null,
   "metadata": {},
   "outputs": [],
   "source": [
    "# Calculate the temperature in June and December at all stations across all years.\n",
    "june_temp, = session.query(func.avg(Measurement.tobs)).filter(func.strftime(\"%m\", Measurement.date) == '06').first()\n",
    "dec_temp, = session.query(func.avg(Measurement.tobs)).filter(func.strftime(\"%m\", Measurement.date) == '12').first()\n",
    "print(f'Average temperature in June is {round(june_temp,2)} °F')\n",
    "print(f'Average temperature in December is {round(dec_temp,2)} °F')"
   ]
  },
  {
   "cell_type": "code",
   "execution_count": null,
   "metadata": {},
   "outputs": [],
   "source": [
    "# t-test\n",
    "import scipy.stats as sts\n",
    "june_population = session.query((Measurement.tobs)).filter(func.strftime(\"%m\", Measurement.date) == '06').all()\n",
    "dec_population = session.query((Measurement.tobs)).filter(func.strftime(\"%m\", Measurement.date) == '12').all()\n",
    "june_population = list(np.ravel(june_population))\n",
    "dec_population = list(np.ravel(dec_population))\n",
    "\n",
    "sts.ttest_ind(june_population, dec_population)"
   ]
  },
  {
   "cell_type": "code",
   "execution_count": null,
   "metadata": {},
   "outputs": [],
   "source": [
    "# Use your previous function `calc_temps` to calculate the tmin, tavg, and tmax \n",
    "# for your trip using the previous year's data for those same dates.\n",
    "(startdate, enddate) = ('2016-03-05', '2016-03-12')\n",
    "temp_query = calc_temps(startdate, enddate)\n",
    "(TMIN, TAVG, TMAX) = list(np.ravel(temp_query))\n",
    "(TMIN,TAVG,TMAX)"
   ]
  },
  {
   "cell_type": "code",
   "execution_count": null,
   "metadata": {},
   "outputs": [],
   "source": [
    "# Plot the results from your previous query as a bar chart. \n",
    "# Use \"Trip Avg Temp\" as your Title\n",
    "# Use the average temperature for the y value\n",
    "# Use the peak-to-peak (tmax-tmin) value as the y error bar (yerr)\n",
    "plt.figure(figsize=(2,6))\n",
    "plt.bar(1, height=TAVG, yerr=(TMAX-TMIN)/2, alpha=0.5, tick_label='')\n",
    "plt.title('Trip Avg Temp')\n",
    "plt.ylabel('Temp (°F)')\n",
    "plt.ylim(0,95)\n",
    "plt.show()"
   ]
  },
  {
   "cell_type": "code",
   "execution_count": null,
   "metadata": {},
   "outputs": [],
   "source": [
    "# Calculate the total amount of rainfall per weather station for your trip dates using the previous year's matching dates.\n",
    "# Sort this in descending order by precipitation amount and list the station, name, latitude, longitude, and elevation\n",
    "rainfall = session.query(Measurement.station, Station.name, Station.latitude, Station.longitude, Station.elevation)\\\n",
    "                  .filter(Measurement.station == Station.station)\\\n",
    "                  .filter(Measurement.date >= startdate).filter(Measurement.date <= enddate)\\\n",
    "                  .group_by(Measurement.station)\\\n",
    "                  .order_by(func.sum(Measurement.prcp).desc()).all()\n",
    "station_list = []\n",
    "name_list = []\n",
    "lats = []\n",
    "lngs = []\n",
    "elevations = []\n",
    "for station, name, lat, lng, elevation in rainfall:\n",
    "    station_list.append(station)\n",
    "    name_list.append(name)\n",
    "    lats.append(lat)\n",
    "    lngs.append(lng)\n",
    "    elevations.append(elevation)\n",
    "rainfall_df = pd.DataFrame({\n",
    "    'Station':station_list,\n",
    "    'Name': name_list,\n",
    "    'Latitude': lats,\n",
    "    'Longitude': lngs,\n",
    "    'Elevation': elevations\n",
    "})\n",
    "rainfall_df"
   ]
  },
  {
   "cell_type": "markdown",
   "metadata": {},
   "source": [
    "## Optional Challenge Assignment"
   ]
  },
  {
   "cell_type": "code",
   "execution_count": null,
   "metadata": {},
   "outputs": [],
   "source": [
    "# Create a query that will calculate the daily normals \n",
    "# (i.e. the averages for tmin, tmax, and tavg for all historic data matching a specific month and day)\n",
    "\n",
    "def daily_normals(date):\n",
    "    \"\"\"Daily Normals.\n",
    "    \n",
    "    Args:\n",
    "        date (str): A date string in the format '%m-%d'\n",
    "        \n",
    "    Returns:\n",
    "        A list of tuples containing the daily normals, tmin, tavg, and tmax\n",
    "    \n",
    "    \"\"\"\n",
    "    \n",
    "    sel = [func.min(Measurement.tobs), func.avg(Measurement.tobs), func.max(Measurement.tobs)]\n",
    "    return session.query(*sel).filter(func.strftime(\"%m-%d\", Measurement.date) == date).all()"
   ]
  },
  {
   "cell_type": "code",
   "execution_count": null,
   "metadata": {},
   "outputs": [],
   "source": [
    "# calculate the daily normals for your trip\n",
    "# (startdate, enddate) = ('2016-03-05', '2016-03-12')\n",
    "query_dates = []\n",
    "dates = []\n",
    "for i in range(8):\n",
    "    query_date = dt.date(2016, 3, 5) + dt.timedelta(days=i)\n",
    "    query_dates.append(query_date)\n",
    "    dates.append(query_date.strftime(\"%m-%d\"))"
   ]
  },
  {
   "cell_type": "code",
   "execution_count": null,
   "metadata": {},
   "outputs": [],
   "source": [
    "tmin = list()\n",
    "tavg = list()\n",
    "tmax = list()\n",
    "\n",
    "for i in range(8):\n",
    "    data = daily_normals(dates[i])\n",
    "    tmin.append(data[0][0])\n",
    "    tavg.append(data[0][1])\n",
    "    tmax.append(data[0][2])"
   ]
  },
  {
   "cell_type": "code",
   "execution_count": null,
   "metadata": {},
   "outputs": [],
   "source": [
    "# Load the previous query results into a Pandas DataFrame and add the `trip_dates` range as the `date` index\n",
    "df = pd.DataFrame({\n",
    "    'date': query_dates,\n",
    "    'tmin': tmin,\n",
    "    'tavg': tavg,\n",
    "    'tmax': tmax\n",
    "})\n",
    "df = df.set_index('date')"
   ]
  },
  {
   "cell_type": "code",
   "execution_count": null,
   "metadata": {},
   "outputs": [],
   "source": [
    "# Plot the daily normals as an area plot with `stacked=False`\n",
    "df.plot(kind='area', alpha=0.2, stacked=False, rot=45)"
   ]
  }
 ],
 "metadata": {
  "kernel_info": {
   "name": "python3"
  },
  "kernelspec": {
   "display_name": "Python 3",
   "language": "python",
   "name": "python3"
  },
  "language_info": {
   "codemirror_mode": {
    "name": "ipython",
    "version": 3
   },
   "file_extension": ".py",
   "mimetype": "text/x-python",
   "name": "python",
   "nbconvert_exporter": "python",
   "pygments_lexer": "ipython3",
   "version": "3.6.10"
  },
  "nteract": {
   "version": "0.12.3"
  },
  "varInspector": {
   "cols": {
    "lenName": 16,
    "lenType": 16,
    "lenVar": 40
   },
   "kernels_config": {
    "python": {
     "delete_cmd_postfix": "",
     "delete_cmd_prefix": "del ",
     "library": "var_list.py",
     "varRefreshCmd": "print(var_dic_list())"
    },
    "r": {
     "delete_cmd_postfix": ") ",
     "delete_cmd_prefix": "rm(",
     "library": "var_list.r",
     "varRefreshCmd": "cat(var_dic_list()) "
    }
   },
   "types_to_exclude": [
    "module",
    "function",
    "builtin_function_or_method",
    "instance",
    "_Feature"
   ],
   "window_display": false
  }
 },
 "nbformat": 4,
 "nbformat_minor": 2
}
